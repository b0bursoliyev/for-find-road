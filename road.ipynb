{
 "cells": [
  {
   "cell_type": "code",
   "execution_count": 1,
   "metadata": {},
   "outputs": [],
   "source": [
    "import cv2\n",
    "import matplotlib.pyplot as plt\n",
    "import matplotlib.image as mimg\n",
    "import numpy as np\n",
    "import glob\n",
    "import os"
   ]
  },
  {
   "cell_type": "code",
   "execution_count": 3,
   "metadata": {},
   "outputs": [],
   "source": [
    "%matplotlib inline \n",
    "video = cv2.VideoCapture('video/3.mp4')\n",
    "while video.isOpened():\n",
    "    _,kadr = video.read()\n",
    "    if kadr is None:\n",
    "      break\n",
    "    \n",
    "    kadr = cv2.cvtColor(kadr,cv2.COLOR_BGR2RGB)\n",
    "    kadr_gray = cv2.cvtColor(kadr,cv2.COLOR_RGB2GRAY)\n",
    "    edges = cv2.Canny(kadr,10,150)\n",
    "    line_kadr = np.copy(kadr)\n",
    "    line = cv2.HoughLinesP(edges,rho=1,theta=np.pi/180,threshold=20,minLineLength=40,maxLineGap=15)\n",
    "\n",
    "    if line is not None:\n",
    "          for i in line:\n",
    "            for x,y,x2,y2 in i:\n",
    "                cv2.line(line_kadr,(x,y),(x2,y2),(0,0,250),5)\n",
    "\n",
    "    cv2.imshow(\"Video\",line_kadr)\n",
    "    if cv2.waitKey(1) & 0xFF == ord('q'):\n",
    "      break\n",
    "video.release()\n",
    "cv2.destroyAllWindows()"
   ]
  },
  {
   "cell_type": "code",
   "execution_count": 4,
   "metadata": {},
   "outputs": [],
   "source": [
    "video = cv2.VideoCapture('video/3.mp4')\n",
    "while video.isOpened():\n",
    "    _, kadr = video.read()\n",
    "    if kadr is None:\n",
    "        break\n",
    "    kadr = cv2.cvtColor(kadr, cv2.COLOR_BGR2RGB)\n",
    "    kadr_gray = cv2.cvtColor(kadr, cv2.COLOR_RGB2GRAY)\n",
    "    kadr_blur = cv2.GaussianBlur(kadr_gray, (9,9), 0)\n",
    "    rasm = np.copy(kadr)\n",
    "\n",
    "    chiziq = cv2.HoughCircles(kadr_blur, cv2.HOUGH_GRADIENT, 1, minDist=15, param1=100, param2=11, minRadius=10, maxRadius=15)\n",
    "    if chiziq is not None:\n",
    "        chiziq = np.uint16(np.around(chiziq))\n",
    "        for i in chiziq[0, :]:\n",
    "            cv2.circle(rasm, (i[0], i[1]), i[2], (255, 0, 0), 3)\n",
    "\n",
    "    cv2.imshow(\"Video\", rasm)\n",
    "    if cv2.waitKey(1) & 0xFF == ord('q'):\n",
    "        break\n",
    "video.release()\n",
    "cv2.destroyAllWindows()"
   ]
  }
 ],
 "metadata": {
  "kernelspec": {
   "display_name": "Python 3",
   "language": "python",
   "name": "python3"
  },
  "language_info": {
   "codemirror_mode": {
    "name": "ipython",
    "version": 3
   },
   "file_extension": ".py",
   "mimetype": "text/x-python",
   "name": "python",
   "nbconvert_exporter": "python",
   "pygments_lexer": "ipython3",
   "version": "3.11.4"
  },
  "orig_nbformat": 4
 },
 "nbformat": 4,
 "nbformat_minor": 2
}
